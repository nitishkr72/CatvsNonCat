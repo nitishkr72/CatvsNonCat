{
 "cells": [
  {
   "cell_type": "code",
   "execution_count": 1,
   "metadata": {
    "execution": {
     "iopub.execute_input": "2021-03-06T15:36:39.646984Z",
     "iopub.status.busy": "2021-03-06T15:36:39.641351Z",
     "iopub.status.idle": "2021-03-06T15:36:39.900395Z",
     "shell.execute_reply": "2021-03-06T15:36:39.899472Z"
    },
    "papermill": {
     "duration": 0.281448,
     "end_time": "2021-03-06T15:36:39.900638",
     "exception": false,
     "start_time": "2021-03-06T15:36:39.619190",
     "status": "completed"
    },
    "tags": []
   },
   "outputs": [
    {
     "name": "stdout",
     "output_type": "stream",
     "text": [
      "/kaggle/input/andrewng-coursera-catvsnoncatdata/train_catvnoncat.h5\n",
      "/kaggle/input/andrewng-coursera-catvsnoncatdata/test_catvnoncat.h5\n"
     ]
    }
   ],
   "source": [
    "# Kaggle notebook\n",
    "# https://www.kaggle.com/nitishkr72/onehiddenlayer-catvsnoncat\n",
    "\n",
    "# This Python 3 environment comes with many helpful analytics libraries installed\n",
    "# It is defined by the kaggle/python Docker image: https://github.com/kaggle/docker-python\n",
    "# For example, here's several helpful packages to load\n",
    "\n",
    "import numpy as np\n",
    "import h5py\n",
    "import matplotlib.pyplot as plt\n",
    "\n",
    "%matplotlib inline\n",
    "import os\n",
    "for dirname, _, filenames in os.walk('/kaggle/input'):\n",
    "    for filename in filenames:\n",
    "        print(os.path.join(dirname, filename))\n",
    "\n",
    "\n",
    "\n",
    "def load_data():\n",
    "    train_dataset = h5py.File('../input/andrewng-coursera-catvsnoncatdata/train_catvnoncat.h5', \"r\")\n",
    "    train_set_x_orig = np.array(train_dataset[\"train_set_x\"][:]) # your train set features\n",
    "    train_set_y_orig = np.array(train_dataset[\"train_set_y\"][:]) # your train set labels\n",
    "\n",
    "    test_dataset = h5py.File('../input/andrewng-coursera-catvsnoncatdata/test_catvnoncat.h5', \"r\")\n",
    "    test_set_x_orig = np.array(test_dataset[\"test_set_x\"][:]) # your test set features\n",
    "    test_set_y_orig = np.array(test_dataset[\"test_set_y\"][:]) # your test set labels\n",
    "\n",
    "    classes = np.array(test_dataset[\"list_classes\"][:]) # the list of classes\n",
    "    \n",
    "    train_set_y_orig = train_set_y_orig.reshape((1, train_set_y_orig.shape[0]))\n",
    "    test_set_y_orig = test_set_y_orig.reshape((1, test_set_y_orig.shape[0]))\n",
    "    \n",
    "    return train_set_x_orig, train_set_y_orig, test_set_x_orig, test_set_y_orig, classes\n",
    "\n",
    "np.random.seed(1)\n",
    "\n",
    "# print(\"Hello\")\n",
    "# Input data files are available in the read-only \"../input/\" directory\n",
    "# For example, running this (by clicking run or pressing Shift+Enter) will list all files under the input directory\n",
    "\n",
    "# You can write up to 20GB to the current directory (/kaggle/working/) that gets preserved as output when you create a version using \"Save & Run All\" \n",
    "# You can also write temporary files to /kaggle/temp/, but they won't be saved outside of the current session"
   ]
  },
  {
   "cell_type": "code",
   "execution_count": 2,
   "metadata": {
    "execution": {
     "iopub.execute_input": "2021-03-06T15:36:39.954564Z",
     "iopub.status.busy": "2021-03-06T15:36:39.953611Z",
     "iopub.status.idle": "2021-03-06T15:36:40.092985Z",
     "shell.execute_reply": "2021-03-06T15:36:40.093544Z"
    },
    "papermill": {
     "duration": 0.174095,
     "end_time": "2021-03-06T15:36:40.093732",
     "exception": false,
     "start_time": "2021-03-06T15:36:39.919637",
     "status": "completed"
    },
    "tags": []
   },
   "outputs": [],
   "source": [
    "train_set_x, train_set_y, test_set_x, test_set_y, classes = load_data()"
   ]
  },
  {
   "cell_type": "code",
   "execution_count": 3,
   "metadata": {
    "execution": {
     "iopub.execute_input": "2021-03-06T15:36:40.129584Z",
     "iopub.status.busy": "2021-03-06T15:36:40.128898Z",
     "iopub.status.idle": "2021-03-06T15:36:40.144974Z",
     "shell.execute_reply": "2021-03-06T15:36:40.144441Z"
    },
    "papermill": {
     "duration": 0.037883,
     "end_time": "2021-03-06T15:36:40.145121",
     "exception": false,
     "start_time": "2021-03-06T15:36:40.107238",
     "status": "completed"
    },
    "tags": []
   },
   "outputs": [],
   "source": [
    "train_x = train_set_x.reshape(train_set_x.shape[0], -1).T\n",
    "test_x = test_set_x.reshape(test_set_x.shape[0], -1).T\n",
    "\n",
    "train_x = train_x/255\n",
    "test_x = test_x/255"
   ]
  },
  {
   "cell_type": "code",
   "execution_count": 4,
   "metadata": {
    "execution": {
     "iopub.execute_input": "2021-03-06T15:36:40.180358Z",
     "iopub.status.busy": "2021-03-06T15:36:40.178904Z",
     "iopub.status.idle": "2021-03-06T15:36:40.187624Z",
     "shell.execute_reply": "2021-03-06T15:36:40.188280Z"
    },
    "papermill": {
     "duration": 0.029185,
     "end_time": "2021-03-06T15:36:40.188459",
     "exception": false,
     "start_time": "2021-03-06T15:36:40.159274",
     "status": "completed"
    },
    "tags": []
   },
   "outputs": [],
   "source": [
    "n_x, m = train_x.shape[0], train_x.shape[1]"
   ]
  },
  {
   "cell_type": "code",
   "execution_count": 5,
   "metadata": {
    "execution": {
     "iopub.execute_input": "2021-03-06T15:36:40.234450Z",
     "iopub.status.busy": "2021-03-06T15:36:40.233246Z",
     "iopub.status.idle": "2021-03-06T15:36:40.240052Z",
     "shell.execute_reply": "2021-03-06T15:36:40.238973Z"
    },
    "papermill": {
     "duration": 0.031487,
     "end_time": "2021-03-06T15:36:40.240344",
     "exception": false,
     "start_time": "2021-03-06T15:36:40.208857",
     "status": "completed"
    },
    "tags": []
   },
   "outputs": [],
   "source": [
    "\"\"\"\n",
    "    layer_size(X, Y):\n",
    "        return n_x, n_h, n_y\n",
    "    \n",
    "    n_x: size of input layer\n",
    "    n_h: size of hidden layer\n",
    "    n_y: size of output layer\n",
    "\"\"\"\n",
    "def layer_size(X, Y):\n",
    "    return (X.shape[0], 4, 1)"
   ]
  },
  {
   "cell_type": "code",
   "execution_count": 6,
   "metadata": {
    "execution": {
     "iopub.execute_input": "2021-03-06T15:36:40.284914Z",
     "iopub.status.busy": "2021-03-06T15:36:40.283198Z",
     "iopub.status.idle": "2021-03-06T15:36:40.289295Z",
     "shell.execute_reply": "2021-03-06T15:36:40.288444Z"
    },
    "papermill": {
     "duration": 0.027875,
     "end_time": "2021-03-06T15:36:40.289478",
     "exception": false,
     "start_time": "2021-03-06T15:36:40.261603",
     "status": "completed"
    },
    "tags": []
   },
   "outputs": [],
   "source": [
    "def sigmoid(Z):\n",
    "    return 1/(1+np.exp(-Z))"
   ]
  },
  {
   "cell_type": "code",
   "execution_count": 7,
   "metadata": {
    "execution": {
     "iopub.execute_input": "2021-03-06T15:36:40.331736Z",
     "iopub.status.busy": "2021-03-06T15:36:40.330912Z",
     "iopub.status.idle": "2021-03-06T15:36:40.335062Z",
     "shell.execute_reply": "2021-03-06T15:36:40.336053Z"
    },
    "papermill": {
     "duration": 0.031583,
     "end_time": "2021-03-06T15:36:40.336338",
     "exception": false,
     "start_time": "2021-03-06T15:36:40.304755",
     "status": "completed"
    },
    "tags": []
   },
   "outputs": [],
   "source": [
    "def initialise_params(n_x, n_h, n_y):\n",
    "    W1 = np.random.randn(n_h, n_x)*0.01\n",
    "    b1 = np.zeros((n_h, 1))\n",
    "    W2 = np.random.randn(n_y, n_h)*0.01\n",
    "    b2 = np.zeros((n_y, 1))\n",
    "    \n",
    "    params = {\n",
    "        \"W1\": W1,\n",
    "        \"b1\": b1,\n",
    "        \"W2\": W2,\n",
    "        \"b2\": b2\n",
    "    }\n",
    "    return params"
   ]
  },
  {
   "cell_type": "code",
   "execution_count": 8,
   "metadata": {
    "execution": {
     "iopub.execute_input": "2021-03-06T15:36:40.405653Z",
     "iopub.status.busy": "2021-03-06T15:36:40.404537Z",
     "iopub.status.idle": "2021-03-06T15:36:40.412945Z",
     "shell.execute_reply": "2021-03-06T15:36:40.410334Z"
    },
    "papermill": {
     "duration": 0.046465,
     "end_time": "2021-03-06T15:36:40.413276",
     "exception": false,
     "start_time": "2021-03-06T15:36:40.366811",
     "status": "completed"
    },
    "tags": []
   },
   "outputs": [],
   "source": [
    "def forward_prop(X, params):\n",
    "    W1 = params[\"W1\"]\n",
    "    b1 = params[\"b1\"]\n",
    "    W2 = params[\"W2\"] \n",
    "    b2 = params[\"b2\"]\n",
    "    \n",
    "    Z1 = np.dot(W1, X) + b1\n",
    "    A1 = np.tanh(Z1)\n",
    "    \n",
    "    Z2 = np.dot(W2, A1) + b2\n",
    "    A2 = sigmoid(Z2)\n",
    "    \n",
    "    cache = {\n",
    "        \"Z1\": Z1,\n",
    "        \"A1\": A1,\n",
    "        \"Z2\": Z2,\n",
    "        \"A2\": A2\n",
    "    }\n",
    "\n",
    "    return cache"
   ]
  },
  {
   "cell_type": "code",
   "execution_count": 9,
   "metadata": {
    "execution": {
     "iopub.execute_input": "2021-03-06T15:36:40.477231Z",
     "iopub.status.busy": "2021-03-06T15:36:40.476365Z",
     "iopub.status.idle": "2021-03-06T15:36:40.479218Z",
     "shell.execute_reply": "2021-03-06T15:36:40.479884Z"
    },
    "papermill": {
     "duration": 0.038015,
     "end_time": "2021-03-06T15:36:40.480108",
     "exception": false,
     "start_time": "2021-03-06T15:36:40.442093",
     "status": "completed"
    },
    "tags": []
   },
   "outputs": [],
   "source": [
    "def compute_cost(A2, Y):\n",
    "    cost = -np.sum(np.multiply(Y, np.log(A2)) + np.multiply(1-Y, np.log(1-A2)))/m\n",
    "    cost = float(np.squeeze(cost))\n",
    "    return cost"
   ]
  },
  {
   "cell_type": "code",
   "execution_count": 10,
   "metadata": {
    "execution": {
     "iopub.execute_input": "2021-03-06T15:36:40.532603Z",
     "iopub.status.busy": "2021-03-06T15:36:40.531562Z",
     "iopub.status.idle": "2021-03-06T15:36:40.536011Z",
     "shell.execute_reply": "2021-03-06T15:36:40.535099Z"
    },
    "papermill": {
     "duration": 0.03405,
     "end_time": "2021-03-06T15:36:40.536238",
     "exception": false,
     "start_time": "2021-03-06T15:36:40.502188",
     "status": "completed"
    },
    "tags": []
   },
   "outputs": [],
   "source": [
    "def back_prop(X, Y, params, cache):\n",
    "    W1 = params[\"W1\"]\n",
    "    b1 = params[\"b1\"]\n",
    "    W2 = params[\"W2\"]\n",
    "    b2 = params[\"b2\"]\n",
    "    \n",
    "    A1 = cache[\"A1\"]\n",
    "    A2 = cache[\"A2\"]\n",
    "    \n",
    "    dZ2 = A2 - Y\n",
    "    dW2 = np.dot(dZ2, A1.T)/m\n",
    "    db2 = np.sum(dZ2, axis=1, keepdims=True)/m\n",
    "    \n",
    "    dZ1 = np.multiply(np.dot(dZ2.T, W2).T, 1-np.power(A1, 2))\n",
    "    dW1 = np.dot(dZ1, X.T)/m\n",
    "    db1 = np.sum(dZ1, axis=1, keepdims=True)/m\n",
    "    \n",
    "    grads = {\n",
    "        \"dW1\": dW1,\n",
    "        \"db1\": db1,\n",
    "        \"dW2\": dW2,\n",
    "        \"db2\": db2\n",
    "    }\n",
    "    \n",
    "    return grads"
   ]
  },
  {
   "cell_type": "code",
   "execution_count": 11,
   "metadata": {
    "execution": {
     "iopub.execute_input": "2021-03-06T15:36:40.584537Z",
     "iopub.status.busy": "2021-03-06T15:36:40.583608Z",
     "iopub.status.idle": "2021-03-06T15:36:40.589127Z",
     "shell.execute_reply": "2021-03-06T15:36:40.588404Z"
    },
    "papermill": {
     "duration": 0.032682,
     "end_time": "2021-03-06T15:36:40.589356",
     "exception": false,
     "start_time": "2021-03-06T15:36:40.556674",
     "status": "completed"
    },
    "tags": []
   },
   "outputs": [],
   "source": [
    "def update_params(grads, params, alpha=0.05):\n",
    "    params[\"W1\"] = params[\"W1\"] - alpha*grads[\"dW1\"]\n",
    "    params[\"b1\"] = params[\"b1\"] - alpha*grads[\"db1\"]\n",
    "    \n",
    "    params[\"W2\"] = params[\"W2\"] - alpha*grads[\"dW2\"]\n",
    "    params[\"b2\"] = params[\"b2\"] - alpha*grads[\"db2\"]\n",
    "    \n",
    "    return params"
   ]
  },
  {
   "cell_type": "code",
   "execution_count": 12,
   "metadata": {
    "execution": {
     "iopub.execute_input": "2021-03-06T15:36:40.640893Z",
     "iopub.status.busy": "2021-03-06T15:36:40.639961Z",
     "iopub.status.idle": "2021-03-06T15:36:40.644388Z",
     "shell.execute_reply": "2021-03-06T15:36:40.645041Z"
    },
    "papermill": {
     "duration": 0.035375,
     "end_time": "2021-03-06T15:36:40.645291",
     "exception": false,
     "start_time": "2021-03-06T15:36:40.609916",
     "status": "completed"
    },
    "tags": []
   },
   "outputs": [],
   "source": [
    "def oneLayer_model(X, Y, num_iter=10000, alpha=0.5):\n",
    "    (n_x, n_h, n_y) = layer_size(X, Y)\n",
    "    \n",
    "    params = initialise_params(n_x, n_h, n_y)\n",
    "    \n",
    "    for i in range(num_iter):\n",
    "        if i%100 == 0:\n",
    "            print(\"hurray 50\", i)\n",
    "        cache = forward_prop(X, params)\n",
    "        cost = compute_cost(cache[\"A2\"], Y)\n",
    "        \n",
    "        grads = back_prop(X, Y, params, cache)\n",
    "        \n",
    "        params = update_params(grads, params)\n",
    "        \n",
    "        if i%1000 == 0:\n",
    "            print (\"Cost after iteration %i: %f\" %(i, cost))\n",
    "    \n",
    "    return params"
   ]
  },
  {
   "cell_type": "code",
   "execution_count": 13,
   "metadata": {
    "execution": {
     "iopub.execute_input": "2021-03-06T15:36:40.692608Z",
     "iopub.status.busy": "2021-03-06T15:36:40.691717Z",
     "iopub.status.idle": "2021-03-06T15:40:14.156950Z",
     "shell.execute_reply": "2021-03-06T15:40:14.156415Z"
    },
    "papermill": {
     "duration": 213.491069,
     "end_time": "2021-03-06T15:40:14.157095",
     "exception": false,
     "start_time": "2021-03-06T15:36:40.666026",
     "status": "completed"
    },
    "tags": []
   },
   "outputs": [
    {
     "name": "stdout",
     "output_type": "stream",
     "text": [
      "hurray 50 0\n",
      "Cost after iteration 0: 0.693146\n",
      "hurray 50 100\n",
      "hurray 50 200\n",
      "hurray 50 300\n",
      "hurray 50 400\n",
      "hurray 50 500\n",
      "hurray 50 600\n",
      "hurray 50 700\n",
      "hurray 50 800\n",
      "hurray 50 900\n",
      "hurray 50 1000\n",
      "Cost after iteration 1000: 0.503412\n",
      "hurray 50 1100\n",
      "hurray 50 1200\n",
      "hurray 50 1300\n",
      "hurray 50 1400\n",
      "hurray 50 1500\n",
      "hurray 50 1600\n",
      "hurray 50 1700\n",
      "hurray 50 1800\n",
      "hurray 50 1900\n",
      "hurray 50 2000\n",
      "Cost after iteration 2000: 0.306040\n",
      "hurray 50 2100\n",
      "hurray 50 2200\n",
      "hurray 50 2300\n",
      "hurray 50 2400\n",
      "hurray 50 2500\n",
      "hurray 50 2600\n",
      "hurray 50 2700\n",
      "hurray 50 2800\n",
      "hurray 50 2900\n",
      "hurray 50 3000\n",
      "Cost after iteration 3000: 0.647696\n",
      "hurray 50 3100\n",
      "hurray 50 3200\n",
      "hurray 50 3300\n",
      "hurray 50 3400\n",
      "hurray 50 3500\n",
      "hurray 50 3600\n",
      "hurray 50 3700\n",
      "hurray 50 3800\n",
      "hurray 50 3900\n",
      "hurray 50 4000\n",
      "Cost after iteration 4000: 0.076681\n",
      "hurray 50 4100\n",
      "hurray 50 4200\n",
      "hurray 50 4300\n",
      "hurray 50 4400\n",
      "hurray 50 4500\n",
      "hurray 50 4600\n",
      "hurray 50 4700\n",
      "hurray 50 4800\n",
      "hurray 50 4900\n",
      "hurray 50 5000\n",
      "Cost after iteration 5000: 0.040156\n",
      "hurray 50 5100\n",
      "hurray 50 5200\n",
      "hurray 50 5300\n",
      "hurray 50 5400\n",
      "hurray 50 5500\n",
      "hurray 50 5600\n",
      "hurray 50 5700\n",
      "hurray 50 5800\n",
      "hurray 50 5900\n",
      "hurray 50 6000\n",
      "Cost after iteration 6000: 0.034832\n",
      "hurray 50 6100\n",
      "hurray 50 6200\n",
      "hurray 50 6300\n",
      "hurray 50 6400\n",
      "hurray 50 6500\n",
      "hurray 50 6600\n",
      "hurray 50 6700\n",
      "hurray 50 6800\n",
      "hurray 50 6900\n",
      "hurray 50 7000\n",
      "Cost after iteration 7000: 0.032723\n",
      "hurray 50 7100\n",
      "hurray 50 7200\n",
      "hurray 50 7300\n",
      "hurray 50 7400\n",
      "hurray 50 7500\n",
      "hurray 50 7600\n",
      "hurray 50 7700\n",
      "hurray 50 7800\n",
      "hurray 50 7900\n",
      "hurray 50 8000\n",
      "Cost after iteration 8000: 0.027075\n",
      "hurray 50 8100\n",
      "hurray 50 8200\n",
      "hurray 50 8300\n",
      "hurray 50 8400\n",
      "hurray 50 8500\n",
      "hurray 50 8600\n",
      "hurray 50 8700\n",
      "hurray 50 8800\n",
      "hurray 50 8900\n",
      "hurray 50 9000\n",
      "Cost after iteration 9000: 0.025849\n",
      "hurray 50 9100\n",
      "hurray 50 9200\n",
      "hurray 50 9300\n",
      "hurray 50 9400\n",
      "hurray 50 9500\n",
      "hurray 50 9600\n",
      "hurray 50 9700\n",
      "hurray 50 9800\n",
      "hurray 50 9900\n"
     ]
    }
   ],
   "source": [
    "params = oneLayer_model(train_x, train_set_y)"
   ]
  },
  {
   "cell_type": "code",
   "execution_count": 14,
   "metadata": {
    "execution": {
     "iopub.execute_input": "2021-03-06T15:40:14.255549Z",
     "iopub.status.busy": "2021-03-06T15:40:14.254831Z",
     "iopub.status.idle": "2021-03-06T15:40:14.261830Z",
     "shell.execute_reply": "2021-03-06T15:40:14.261248Z"
    },
    "papermill": {
     "duration": 0.058708,
     "end_time": "2021-03-06T15:40:14.261993",
     "exception": false,
     "start_time": "2021-03-06T15:40:14.203285",
     "status": "completed"
    },
    "tags": []
   },
   "outputs": [
    {
     "name": "stdout",
     "output_type": "stream",
     "text": [
      "{'W1': array([[-0.01943191,  0.04486609,  0.00268487, ...,  0.00965588,\n",
      "         0.05063771, -0.06028278],\n",
      "       [ 0.02168357, -0.0254516 , -0.02063061, ..., -0.00493592,\n",
      "        -0.02638606,  0.03098485],\n",
      "       [-0.01743651,  0.02754674,  0.0138121 , ...,  0.04600918,\n",
      "         0.06156484, -0.00302705],\n",
      "       [-0.03284742,  0.02630854, -0.01107322, ...,  0.01754173,\n",
      "         0.04683025, -0.0349492 ]]), 'b1': array([[ 0.07161301],\n",
      "       [ 0.01650542],\n",
      "       [-0.04693495],\n",
      "       [ 0.05240001]]), 'W2': array([[-2.9492336 ,  1.4335573 , -0.97308321, -3.12414842]]), 'b2': array([[0.80825009]])}\n"
     ]
    }
   ],
   "source": [
    "print(params)"
   ]
  },
  {
   "cell_type": "code",
   "execution_count": 15,
   "metadata": {
    "execution": {
     "iopub.execute_input": "2021-03-06T15:40:14.363310Z",
     "iopub.status.busy": "2021-03-06T15:40:14.362595Z",
     "iopub.status.idle": "2021-03-06T15:40:14.367688Z",
     "shell.execute_reply": "2021-03-06T15:40:14.368225Z"
    },
    "papermill": {
     "duration": 0.059653,
     "end_time": "2021-03-06T15:40:14.368426",
     "exception": false,
     "start_time": "2021-03-06T15:40:14.308773",
     "status": "completed"
    },
    "tags": []
   },
   "outputs": [],
   "source": [
    "def predict(params, X):\n",
    "    \"\"\"\n",
    "    Using the learned parameters, predicts a class for each example in X\n",
    "    \n",
    "    Arguments:\n",
    "    parameters -- python dictionary containing your parameters \n",
    "    X -- input data of size (n_x, m)\n",
    "    \n",
    "    Returns\n",
    "    predictions -- vector of predictions of our model (red: 0 / blue: 1)\n",
    "    \"\"\"\n",
    "    \n",
    "    # Computes probabilities using forward propagation, and classifies to 0/1 using 0.5 as the threshold.\n",
    "    ### START CODE HERE ### (≈ 2 lines of code)\n",
    "    cache = forward_prop(X, params)\n",
    "    A2 = cache[\"A2\"]\n",
    "    predictions = np.zeros((A2.shape[0], A2.shape[1]))\n",
    "    for i in range(3):\n",
    "        if A2[0][i] > 0.5:\n",
    "            predictions[0][i] = 1\n",
    "        else:\n",
    "            predictions[0][i] = 0\n",
    "    ### END CODE HERE ###\n",
    "    \n",
    "    return predictions\n"
   ]
  },
  {
   "cell_type": "code",
   "execution_count": 16,
   "metadata": {
    "execution": {
     "iopub.execute_input": "2021-03-06T15:40:14.467420Z",
     "iopub.status.busy": "2021-03-06T15:40:14.466725Z",
     "iopub.status.idle": "2021-03-06T15:40:14.476999Z",
     "shell.execute_reply": "2021-03-06T15:40:14.477513Z"
    },
    "papermill": {
     "duration": 0.063115,
     "end_time": "2021-03-06T15:40:14.477719",
     "exception": false,
     "start_time": "2021-03-06T15:40:14.414604",
     "status": "completed"
    },
    "tags": []
   },
   "outputs": [
    {
     "name": "stdout",
     "output_type": "stream",
     "text": [
      "Accuracy: 40%\n"
     ]
    }
   ],
   "source": [
    "predictions = predict(params, test_x)\n",
    "print ('Accuracy: %d' % float((np.dot(test_set_y,predictions.T) + np.dot(1-test_set_y,1-predictions.T))/float(test_set_y.size)*100) + '%')"
   ]
  },
  {
   "cell_type": "code",
   "execution_count": null,
   "metadata": {
    "papermill": {
     "duration": 0.046766,
     "end_time": "2021-03-06T15:40:14.572022",
     "exception": false,
     "start_time": "2021-03-06T15:40:14.525256",
     "status": "completed"
    },
    "tags": []
   },
   "outputs": [],
   "source": []
  }
 ],
 "metadata": {
  "kernelspec": {
   "display_name": "Python 3",
   "language": "python",
   "name": "python3"
  },
  "language_info": {
   "codemirror_mode": {
    "name": "ipython",
    "version": 3
   },
   "file_extension": ".py",
   "mimetype": "text/x-python",
   "name": "python",
   "nbconvert_exporter": "python",
   "pygments_lexer": "ipython3",
   "version": "3.8.7"
  },
  "papermill": {
   "default_parameters": {},
   "duration": 222.855572,
   "end_time": "2021-03-06T15:40:15.231544",
   "environment_variables": {},
   "exception": null,
   "input_path": "__notebook__.ipynb",
   "output_path": "__notebook__.ipynb",
   "parameters": {},
   "start_time": "2021-03-06T15:36:32.375972",
   "version": "2.2.2"
  }
 },
 "nbformat": 4,
 "nbformat_minor": 4
}
